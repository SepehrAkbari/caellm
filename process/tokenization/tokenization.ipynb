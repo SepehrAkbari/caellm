{
 "cells": [
  {
   "cell_type": "markdown",
   "id": "5f43beef",
   "metadata": {},
   "source": [
    "# **Tokenization**"
   ]
  },
  {
   "cell_type": "code",
   "execution_count": 1,
   "id": "eae1f113",
   "metadata": {},
   "outputs": [],
   "source": [
    "import os\n",
    "import re\n",
    "import urllib.request\n",
    "import tiktoken\n",
    "import torch\n",
    "from torch.utils.data import Dataset, DataLoader\n",
    "import random\n",
    "import warnings\n",
    "\n",
    "random.seed(42)\n",
    "torch.manual_seed(123)\n",
    "warnings.filterwarnings(\"ignore\")"
   ]
  },
  {
   "cell_type": "markdown",
   "id": "0159c310",
   "metadata": {},
   "source": [
    "## Tokenizing Text"
   ]
  },
  {
   "cell_type": "code",
   "execution_count": 2,
   "id": "97b33ad7",
   "metadata": {},
   "outputs": [
    {
     "name": "stdout",
     "output_type": "stream",
     "text": [
      "Original: Hello, world! This is, an example, of tokenizing text.\n",
      "Tokens: ['Hello', ',', 'world', '!', 'This', 'is', ',', 'an', 'example', ',', 'of', 'tokenizing', 'text', '.']\n"
     ]
    }
   ],
   "source": [
    "example_text = \"Hello, world! This is, an example, of tokenizing text.\"\n",
    "print(f\"Original: {example_text}\")\n",
    "example_result = re.split(r'([,.!]|\\s)', example_text)\n",
    "example_result = [token for token in example_result if token.strip()]\n",
    "print(f\"Tokens: {example_result}\")"
   ]
  },
  {
   "cell_type": "code",
   "execution_count": 3,
   "id": "fc01aecf",
   "metadata": {},
   "outputs": [
    {
     "name": "stdout",
     "output_type": "stream",
     "text": [
      "Length of raw text: 20479\n",
      "Number of tokens: 4690\n",
      "First 5 tokens: ['I', 'HAD', 'always', 'thought', 'Jack']\n"
     ]
    }
   ],
   "source": [
    "with open(\"the-verdict.txt\", \"r\") as f:\n",
    "    raw_text = f.read()\n",
    "print(f\"Length of raw text: {len(raw_text)}\")\n",
    "\n",
    "preprocessed = re.split(r'([,.:;?_!\"()\\']|--|\\s)', raw_text)\n",
    "preprocessed = [token.strip() for token in preprocessed if token.strip()]\n",
    "print(f\"Number of tokens: {len(preprocessed)}\")\n",
    "print(f\"First 5 tokens: {preprocessed[:5]}\")"
   ]
  },
  {
   "cell_type": "markdown",
   "id": "88db8f72",
   "metadata": {},
   "source": [
    "## Building Token IDs"
   ]
  },
  {
   "cell_type": "code",
   "execution_count": 4,
   "id": "b0bd97bc",
   "metadata": {},
   "outputs": [],
   "source": [
    "all_words = sorted(set(preprocessed))"
   ]
  },
  {
   "cell_type": "code",
   "execution_count": 5,
   "id": "f26843b3",
   "metadata": {},
   "outputs": [
    {
     "name": "stdout",
     "output_type": "stream",
     "text": [
      "Vocabulary size: 1130\n"
     ]
    }
   ],
   "source": [
    "vocab_size = len(all_words)\n",
    "print(f\"Vocabulary size: {vocab_size}\")"
   ]
  },
  {
   "cell_type": "code",
   "execution_count": 6,
   "id": "9d9b9e31",
   "metadata": {},
   "outputs": [
    {
     "name": "stdout",
     "output_type": "stream",
     "text": [
      "Random tokens with IDs: [('breaking', 228), ('His', 51), ('idea', 563), ('good-breeding', 501), ('forced', 457)]\n"
     ]
    }
   ],
   "source": [
    "vocab = {token: integer for integer, token in enumerate(all_words)}\n",
    "print(f\"Random tokens with IDs: {random.sample(list(vocab.items()), 5)}\")"
   ]
  },
  {
   "cell_type": "code",
   "execution_count": 7,
   "id": "6f128665",
   "metadata": {},
   "outputs": [],
   "source": [
    "class Tokenizer_v1:\n",
    "    def __init__(self, vocab):\n",
    "        self.str_to_int = vocab\n",
    "        self.int_to_str = {token: integer for integer, token in vocab.items()}\n",
    "\n",
    "    def encode(self, text):\n",
    "        preprocessed = re.split(r'([,.:;?_!\"()\\']|--|\\s)', text)\n",
    "        preprocessed = [\n",
    "            token.strip() for token in preprocessed if token.strip()\n",
    "        ]\n",
    "        ids = [self.str_to_int[token] for token in preprocessed]\n",
    "        return ids\n",
    "    \n",
    "    def decode(self, ids):\n",
    "        text = \" \".join([self.int_to_str[id] for id in ids])\n",
    "        text = re.sub(r'\\s+([,.?!\"()\\'])', r'\\1', text)\n",
    "        return text"
   ]
  },
  {
   "cell_type": "code",
   "execution_count": 8,
   "id": "59642c35",
   "metadata": {},
   "outputs": [
    {
     "name": "stdout",
     "output_type": "stream",
     "text": [
      "Encoded IDs: [53, 530, 667, 987, 67, 7, 38, 1077, 841, 9]\n",
      "Decoded text: I have mentioned that Mrs. Gisburn was rich ;\n",
      "Pipeline output: I have mentioned that Mrs. Gisburn was rich ;\n"
     ]
    }
   ],
   "source": [
    "tokenizer = Tokenizer_v1(vocab)\n",
    "\n",
    "text = \"I have mentioned that Mrs. Gisburn was rich;\" # sample text from source\n",
    "\n",
    "ids = tokenizer.encode(text)\n",
    "print(f\"Encoded IDs: {ids}\")\n",
    "\n",
    "tokens = tokenizer.decode(ids)\n",
    "print(f\"Decoded text: {tokens}\")\n",
    "\n",
    "pipeline = tokenizer.decode(tokenizer.encode(text))\n",
    "print(f\"Pipeline output: {pipeline}\")"
   ]
  },
  {
   "cell_type": "markdown",
   "id": "ef08af66",
   "metadata": {},
   "source": [
    "## Adding Context Tokens"
   ]
  },
  {
   "cell_type": "code",
   "execution_count": 9,
   "id": "8ab9b79e",
   "metadata": {},
   "outputs": [
    {
     "name": "stdout",
     "output_type": "stream",
     "text": [
      "Error: Token not found in vocabulary - 'Smith'\n"
     ]
    }
   ],
   "source": [
    "tokenizer = Tokenizer_v1(vocab)\n",
    "\n",
    "example_text= \"I have mentioned that Mrs. Smith was rich\"\n",
    "\n",
    "try:\n",
    "    print(f\"Encoded IDs: {tokenizer.encode(example_text)}\")\n",
    "except KeyError as e:\n",
    "    print(f\"Error: Token not found in vocabulary - {e}\")"
   ]
  },
  {
   "cell_type": "code",
   "execution_count": 10,
   "id": "7db567c1",
   "metadata": {},
   "outputs": [
    {
     "name": "stdout",
     "output_type": "stream",
     "text": [
      "New vocabulary size: 1132\n",
      "Last 5 tokens in vocabulary: [('younger', 1127), ('your', 1128), ('yourself', 1129), ('<|endoftext|>', 1130), ('<|unk|>', 1131)]\n"
     ]
    }
   ],
   "source": [
    "all_tokens = sorted(set(preprocessed))\n",
    "all_tokens.extend([\"<|endoftext|>\", \"<|unk|>\"])\n",
    "\n",
    "vocab = {token: integer for integer, token in enumerate(all_tokens)}\n",
    "print(f\"New vocabulary size: {len(vocab)}\")\n",
    "print(f\"Last 5 tokens in vocabulary: {list(vocab.items())[-5:]}\")"
   ]
  },
  {
   "cell_type": "code",
   "execution_count": 11,
   "id": "0b277291",
   "metadata": {},
   "outputs": [],
   "source": [
    "class Tokenizer_v2:\n",
    "    def __init__(self, vocab):\n",
    "        self.str_to_int = vocab\n",
    "        self.int_to_str = {token: integer for integer, token in vocab.items()}\n",
    "\n",
    "    def encode(self, text):\n",
    "        preprocessed = re.split(r'([,.:;?_!\"()\\']|--|\\s)', text)\n",
    "        preprocessed = [\n",
    "            item if item in self.str_to_int else \"<|unk|>\" for item in preprocessed if item.strip()\n",
    "        ]\n",
    "        ids = [self.str_to_int[token] for token in preprocessed]\n",
    "        return ids\n",
    "    \n",
    "    def decode(self, ids):\n",
    "        text = \" \".join([self.int_to_str[id] for id in ids])\n",
    "        text = re.sub(r'\\s+([,.?!\"()\\'])', r'\\1', text)\n",
    "        return text"
   ]
  },
  {
   "cell_type": "code",
   "execution_count": 12,
   "id": "2aa1e116",
   "metadata": {},
   "outputs": [
    {
     "name": "stdout",
     "output_type": "stream",
     "text": [
      "Encoded IDs: [53, 530, 667, 987, 67, 7, 1131, 1077, 841]\n",
      "Decoded tokens: I have mentioned that Mrs. <|unk|> was rich\n"
     ]
    }
   ],
   "source": [
    "tokenizer = Tokenizer_v2(vocab)\n",
    "\n",
    "print(f\"Encoded IDs: {tokenizer.encode(example_text)}\")\n",
    "print(f\"Decoded tokens: {tokenizer.decode(tokenizer.encode(example_text))}\")"
   ]
  },
  {
   "cell_type": "markdown",
   "id": "01496dc2",
   "metadata": {},
   "source": [
    "## Byte Pair Encoding (BPE)"
   ]
  },
  {
   "cell_type": "code",
   "execution_count": 13,
   "id": "f774eeab",
   "metadata": {},
   "outputs": [],
   "source": [
    "tokenizer = tiktoken.get_encoding(\"gpt2\")"
   ]
  },
  {
   "cell_type": "code",
   "execution_count": 14,
   "id": "1e8fc1ec",
   "metadata": {},
   "outputs": [
    {
     "data": {
      "text/plain": [
       "[15496,\n",
       " 11,\n",
       " 995,\n",
       " 0,\n",
       " 770,\n",
       " 318,\n",
       " 281,\n",
       " 1672,\n",
       " 286,\n",
       " 11241,\n",
       " 2890,\n",
       " 2420,\n",
       " 1262,\n",
       " 256,\n",
       " 1134,\n",
       " 30001,\n",
       " 422,\n",
       " 4946,\n",
       " 20185,\n",
       " 13,\n",
       " 220,\n",
       " 50256,\n",
       " 632,\n",
       " 460,\n",
       " 5412,\n",
       " 407,\n",
       " 691,\n",
       " 3716,\n",
       " 8573,\n",
       " 290,\n",
       " 2456,\n",
       " 1231,\n",
       " 5447,\n",
       " 3616,\n",
       " 393,\n",
       " 9029,\n",
       " 588,\n",
       " 617,\n",
       " 34680,\n",
       " 4775,\n",
       " 393,\n",
       " 474,\n",
       " 80,\n",
       " 358,\n",
       " 77,\n",
       " 71,\n",
       " 732,\n",
       " 8903,\n",
       " 13]"
      ]
     },
     "execution_count": 14,
     "metadata": {},
     "output_type": "execute_result"
    }
   ],
   "source": [
    "example_text = (\n",
    "    \"Hello, world! This is an example of tokenizing text using tiktoken from OpenAI. <|endoftext|> It can handle not only complex structures and words without defined meaning or spaces like someunknownword or jqndnhwevi.\"\n",
    ")\n",
    "\n",
    "tokenizer.encode(example_text, allowed_special={\"<|endoftext|>\", \"<|unk|>\"})"
   ]
  },
  {
   "cell_type": "markdown",
   "id": "e85b143d",
   "metadata": {},
   "source": [
    "## Data Sampling"
   ]
  },
  {
   "cell_type": "code",
   "execution_count": 15,
   "id": "58563b35",
   "metadata": {},
   "outputs": [
    {
     "name": "stdout",
     "output_type": "stream",
     "text": [
      "Encoded text length: 5145\n"
     ]
    }
   ],
   "source": [
    "with open(\"the-verdict.txt\", \"r\") as f:\n",
    "    raw_text = f.read()\n",
    "\n",
    "tokenizer = tiktoken.get_encoding(\"gpt2\")\n",
    "enc_text = tokenizer.encode(raw_text)\n",
    "print(f\"Encoded text length: {len(enc_text)}\")\n",
    "\n",
    "enc_sample = enc_text[50:] # for demo"
   ]
  },
  {
   "cell_type": "code",
   "execution_count": 16,
   "id": "900d2801",
   "metadata": {},
   "outputs": [
    {
     "name": "stdout",
     "output_type": "stream",
     "text": [
      "x: [290, 4920, 2241, 287]\n",
      "y:      [4920, 2241, 287, 257]\n",
      "\n",
      "In action:\n",
      " and ---->  established\n",
      " and established ---->  himself\n",
      " and established himself ---->  in\n",
      " and established himself in ---->  a\n"
     ]
    }
   ],
   "source": [
    "context_size = 4 # in a real LLM: ~10000\n",
    "\n",
    "x = enc_sample[:context_size]\n",
    "y = enc_sample[1:context_size + 1]\n",
    "\n",
    "print(f\"x: {x}\")\n",
    "print(f\"y:      {y}\")\n",
    "\n",
    "print(f\"\\nIn action:\")\n",
    "for i in range(1, context_size + 1):\n",
    "    context = enc_sample[:i]\n",
    "    target = enc_sample[i]\n",
    "    print(f\"{tokenizer.decode(context)} ----> {tokenizer.decode([target])}\")"
   ]
  },
  {
   "cell_type": "code",
   "execution_count": 17,
   "id": "d54c7e2a",
   "metadata": {},
   "outputs": [],
   "source": [
    "class Dataset_v1(Dataset):\n",
    "    def __init__(self, txt, tokenizer, max_length, stride):\n",
    "        # works for only a few million tokens, not more\n",
    "        self.input_ids = []\n",
    "        self.target_ids = []\n",
    "\n",
    "        token_ids = tokenizer.encode(txt, allowed_special={\"<|endoftext|>\", \"<|unk|>\"})\n",
    "\n",
    "        for i in range(0, len(token_ids) - max_length, stride):\n",
    "            input_chunk = token_ids[i:i + max_length]\n",
    "            target_chunk = token_ids[i + 1: i + max_length + 1]\n",
    "\n",
    "            self.input_ids.append(torch.tensor(input_chunk))\n",
    "            self.target_ids.append(torch.tensor(target_chunk))\n",
    "    \n",
    "    def __len__(self):\n",
    "        return len(self.input_ids)\n",
    "\n",
    "    def __getitem__(self, idx):\n",
    "        return self.input_ids[idx], self.target_ids[idx]"
   ]
  },
  {
   "cell_type": "code",
   "execution_count": 18,
   "id": "a3462573",
   "metadata": {},
   "outputs": [],
   "source": [
    "def DataLoader_v1(txt, batch_size=2, max_length=256,\n",
    "                    stride=128, shuffle=True, \n",
    "                    drop_last=True, num_workers=0):\n",
    "    tokenizer = tiktoken.get_encoding(\"gpt2\")\n",
    "    dataset = Dataset_v1(txt, tokenizer, max_length, stride)\n",
    "    dataloader = DataLoader(\n",
    "        dataset,\n",
    "        batch_size=batch_size,\n",
    "        shuffle=shuffle,\n",
    "        drop_last=drop_last,\n",
    "        num_workers=num_workers\n",
    "    )\n",
    "    return dataloader"
   ]
  },
  {
   "cell_type": "code",
   "execution_count": 19,
   "id": "663f675c",
   "metadata": {},
   "outputs": [
    {
     "name": "stdout",
     "output_type": "stream",
     "text": [
      "Example 1 with Stride = 1:\n",
      "\n",
      "First batch Input: tensor([[  40,  367, 2885, 1464]])\n",
      "First batch Target: tensor([[ 367, 2885, 1464, 1807]])\n",
      "\n",
      "Second batch Input: tensor([[ 367, 2885, 1464, 1807]])\n",
      "Second batch Target: tensor([[2885, 1464, 1807, 3619]])\n"
     ]
    }
   ],
   "source": [
    "dataloader_test1 = DataLoader_v1(\n",
    "    raw_text,\n",
    "    batch_size = 1,\n",
    "    max_length = 4,\n",
    "    stride = 1,\n",
    "    shuffle = False\n",
    ")\n",
    "\n",
    "print(f\"Example 1 with Stride = 1:\\n\")\n",
    "\n",
    "data_iter = iter(dataloader_test1)\n",
    "\n",
    "batch1 = next(data_iter)\n",
    "print(f\"First batch Input: {batch1[0]}\\nFirst batch Target: {batch1[1]}\\n\")\n",
    "\n",
    "batch2 = next(data_iter)\n",
    "print(f\"Second batch Input: {batch2[0]}\\nSecond batch Target: {batch2[1]}\")"
   ]
  },
  {
   "cell_type": "code",
   "execution_count": 20,
   "id": "5af15dce",
   "metadata": {},
   "outputs": [
    {
     "name": "stdout",
     "output_type": "stream",
     "text": [
      "\n",
      "Example 2 with Stride = 4:\n",
      "\n",
      "First batch Input: tensor([[  40,  367, 2885, 1464]])\n",
      "First batch Target: tensor([[ 367, 2885, 1464, 1807]])\n",
      "\n",
      "Second batch Input: tensor([[1807, 3619,  402,  271]])\n",
      "Second batch Target: tensor([[ 3619,   402,   271, 10899]])\n"
     ]
    }
   ],
   "source": [
    "dataloader_test2 = DataLoader_v1(\n",
    "    raw_text,\n",
    "    batch_size = 1,\n",
    "    max_length = 4,\n",
    "    stride = 4,\n",
    "    shuffle = False\n",
    ")\n",
    "\n",
    "print(f\"\\nExample 2 with Stride = 4:\\n\")\n",
    "\n",
    "data_iter = iter(dataloader_test2)\n",
    "\n",
    "batch1 = next(data_iter)\n",
    "print(f\"First batch Input: {batch1[0]}\\nFirst batch Target: {batch1[1]}\\n\")\n",
    "\n",
    "batch2 = next(data_iter)\n",
    "print(f\"Second batch Input: {batch2[0]}\\nSecond batch Target: {batch2[1]}\")"
   ]
  },
  {
   "cell_type": "code",
   "execution_count": 21,
   "id": "1a3e16f4",
   "metadata": {},
   "outputs": [
    {
     "name": "stdout",
     "output_type": "stream",
     "text": [
      "\n",
      "Final data loader with Stride = 4, batch size = 8:\n",
      "\n",
      "First batch Input: tensor([[   40,   367,  2885,  1464],\n",
      "        [ 1807,  3619,   402,   271],\n",
      "        [10899,  2138,   257,  7026],\n",
      "        [15632,   438,  2016,   257],\n",
      "        [  922,  5891,  1576,   438],\n",
      "        [  568,   340,   373,   645],\n",
      "        [ 1049,  5975,   284,   502],\n",
      "        [  284,  3285,   326,    11]])\n",
      "\n",
      "Second batch Input: tensor([[  287,   262,  6001,   286],\n",
      "        [  465, 13476,    11,   339],\n",
      "        [  550,  5710,   465, 12036],\n",
      "        [   11,  6405,   257,  5527],\n",
      "        [27075,    11,   290,  4920],\n",
      "        [ 2241,   287,   257,  4489],\n",
      "        [   64,   319,   262, 34686],\n",
      "        [41976,    13,   357, 10915]])\n"
     ]
    }
   ],
   "source": [
    "dataloader = DataLoader_v1(\n",
    "    raw_text,\n",
    "    batch_size = 8,\n",
    "    max_length = 4,\n",
    "    stride = 4,\n",
    "    shuffle = False\n",
    ")\n",
    "\n",
    "print(f\"\\nFinal data loader with Stride = 4, batch size = 8:\\n\")\n",
    "\n",
    "data_iter = iter(dataloader)\n",
    "\n",
    "batch1 = next(data_iter)\n",
    "print(f\"First batch Input: {batch1[0]}\\n\")\n",
    "\n",
    "batch2 = next(data_iter)\n",
    "print(f\"Second batch Input: {batch2[0]}\")"
   ]
  },
  {
   "cell_type": "markdown",
   "id": "d4dcf9c7",
   "metadata": {},
   "source": [
    "## Creating Token Embeddings"
   ]
  },
  {
   "cell_type": "code",
   "execution_count": 22,
   "id": "805f0b88",
   "metadata": {},
   "outputs": [
    {
     "name": "stdout",
     "output_type": "stream",
     "text": [
      "Number of unique tokens: 50257\n"
     ]
    }
   ],
   "source": [
    "print(f\"Number of unique tokens: {tokenizer.n_vocab}\")"
   ]
  },
  {
   "cell_type": "code",
   "execution_count": 23,
   "id": "2a7c9cf5",
   "metadata": {},
   "outputs": [
    {
     "name": "stdout",
     "output_type": "stream",
     "text": [
      "Embedding layer weights: Parameter containing:\n",
      "tensor([[-0.2196, -0.3792, -0.1606],\n",
      "        [-0.4015,  0.6957, -1.8061],\n",
      "        [ 1.8960, -0.1750,  1.3689],\n",
      "        [-1.6033, -0.7849, -1.4096],\n",
      "        [-0.4076,  0.7953,  0.9985],\n",
      "        [ 0.2212,  1.8319, -0.3378]], requires_grad=True)\n"
     ]
    }
   ],
   "source": [
    "example_input_ids = torch.tensor([2, 3, 5, 1])\n",
    "example_vocab_size = 6\n",
    "example_output_dim = 3\n",
    "\n",
    "example_embedding_layer = torch.nn.Embedding(\n",
    "    example_vocab_size,\n",
    "    example_output_dim\n",
    ")\n",
    "\n",
    "print(f\"Embedding layer weights: {example_embedding_layer.weight}\")"
   ]
  },
  {
   "cell_type": "code",
   "execution_count": 24,
   "id": "c48d0f6f",
   "metadata": {},
   "outputs": [
    {
     "name": "stdout",
     "output_type": "stream",
     "text": [
      "Input IDs: tensor([2, 3, 5, 1])\n",
      "Input embeddings: \n",
      "tensor([[ 1.8960, -0.1750,  1.3689],\n",
      "        [-1.6033, -0.7849, -1.4096],\n",
      "        [ 0.2212,  1.8319, -0.3378],\n",
      "        [-0.4015,  0.6957, -1.8061]], grad_fn=<EmbeddingBackward0>)\n"
     ]
    }
   ],
   "source": [
    "print(f\"Input IDs: {example_input_ids}\")\n",
    "print(f\"Input embeddings: \\n{example_embedding_layer(example_input_ids)}\")"
   ]
  },
  {
   "cell_type": "code",
   "execution_count": 25,
   "id": "f6e450c4",
   "metadata": {},
   "outputs": [],
   "source": [
    "vocab_size = tokenizer.n_vocab\n",
    "output_dim = 256\n",
    "token_embedding_layer = torch.nn.Embedding(\n",
    "    vocab_size,\n",
    "    output_dim\n",
    ")\n",
    "\n",
    "max_length = 4\n",
    "dataloader = DataLoader_v1(\n",
    "    raw_text,\n",
    "    batch_size = 8,\n",
    "    max_length = max_length,\n",
    "    stride = max_length,\n",
    "    shuffle = False\n",
    ")\n",
    "data_iter = iter(dataloader)\n",
    "inputs, targets = next(data_iter)"
   ]
  },
  {
   "cell_type": "code",
   "execution_count": 26,
   "id": "2ead055b",
   "metadata": {},
   "outputs": [
    {
     "name": "stdout",
     "output_type": "stream",
     "text": [
      "Token IDs: \n",
      "tensor([[   40,   367,  2885,  1464],\n",
      "        [ 1807,  3619,   402,   271],\n",
      "        [10899,  2138,   257,  7026],\n",
      "        [15632,   438,  2016,   257],\n",
      "        [  922,  5891,  1576,   438],\n",
      "        [  568,   340,   373,   645],\n",
      "        [ 1049,  5975,   284,   502],\n",
      "        [  284,  3285,   326,    11]])\n",
      "\n",
      "Input shape: torch.Size([8, 4])\n"
     ]
    }
   ],
   "source": [
    "print(f\"Token IDs: \\n{inputs}\\n\")\n",
    "print(f\"Input shape: {inputs.shape}\")"
   ]
  },
  {
   "cell_type": "code",
   "execution_count": 27,
   "id": "105feb09",
   "metadata": {},
   "outputs": [
    {
     "name": "stdout",
     "output_type": "stream",
     "text": [
      "Token embeddings shape: torch.Size([8, 4, 256])\n"
     ]
    }
   ],
   "source": [
    "token_embeddings = token_embedding_layer(inputs)\n",
    "print(f\"Token embeddings shape: {token_embeddings.shape}\")"
   ]
  },
  {
   "cell_type": "markdown",
   "id": "b354e1b8",
   "metadata": {},
   "source": [
    "## Adding Positional Info"
   ]
  },
  {
   "cell_type": "code",
   "execution_count": 28,
   "id": "c813cb80",
   "metadata": {},
   "outputs": [
    {
     "name": "stdout",
     "output_type": "stream",
     "text": [
      "Positional embeddings shape: torch.Size([4, 256])\n"
     ]
    }
   ],
   "source": [
    "context_length = max_length\n",
    "pos_embedding_layer = torch.nn.Embedding(\n",
    "    context_length,\n",
    "    output_dim\n",
    ")\n",
    "\n",
    "pos_embeddings = pos_embedding_layer(torch.arange(max_length))\n",
    "print(f\"Positional embeddings shape: {pos_embeddings.shape}\")"
   ]
  },
  {
   "cell_type": "code",
   "execution_count": 29,
   "id": "eb7b96f6",
   "metadata": {},
   "outputs": [
    {
     "name": "stdout",
     "output_type": "stream",
     "text": [
      "Input embeddings shape: torch.Size([8, 4, 256])\n"
     ]
    }
   ],
   "source": [
    "input_embeddings = token_embeddings + pos_embeddings\n",
    "print(f\"Input embeddings shape: {input_embeddings.shape}\")"
   ]
  }
 ],
 "metadata": {
  "kernelspec": {
   "display_name": "temp-llm",
   "language": "python",
   "name": "python3"
  },
  "language_info": {
   "codemirror_mode": {
    "name": "ipython",
    "version": 3
   },
   "file_extension": ".py",
   "mimetype": "text/x-python",
   "name": "python",
   "nbconvert_exporter": "python",
   "pygments_lexer": "ipython3",
   "version": "3.11.13"
  }
 },
 "nbformat": 4,
 "nbformat_minor": 5
}
