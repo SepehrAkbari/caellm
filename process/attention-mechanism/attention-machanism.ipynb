{
 "cells": [
  {
   "cell_type": "markdown",
   "id": "ac112c27",
   "metadata": {},
   "source": [
    "# **Attention Mechanism**"
   ]
  },
  {
   "cell_type": "code",
   "execution_count": 146,
   "id": "fa1c513f",
   "metadata": {},
   "outputs": [],
   "source": [
    "import torch\n",
    "import torch.nn as nn\n",
    "from torch.utils.data import DataLoader\n",
    "import random\n",
    "import warnings\n",
    "\n",
    "random.seed(42)\n",
    "torch.manual_seed(123)\n",
    "warnings.filterwarnings(\"ignore\")"
   ]
  },
  {
   "cell_type": "markdown",
   "id": "7fbf5658",
   "metadata": {},
   "source": [
    "## Simplified Self-Attention Example"
   ]
  },
  {
   "cell_type": "markdown",
   "id": "dc7c3d83",
   "metadata": {},
   "source": [
    "Example input tensor containing 6 words, each represented by a 3-dimensional vector. For demo, we take the second word as the input query."
   ]
  },
  {
   "cell_type": "code",
   "execution_count": 147,
   "id": "3ffc9bc6",
   "metadata": {},
   "outputs": [],
   "source": [
    "inputs = torch.tensor([\n",
    "    [0.43, 0.15, 0.89], # word 1\n",
    "    [0.55, 0.87, 0.66], # word 2\n",
    "    [0.57, 0.85, 0.64], # word 3\n",
    "    [0.22, 0.58, 0.33], # word 4\n",
    "    [0.77, 0.25, 0.10], # word 5\n",
    "    [0.05, 0.80, 0.55]  # word 6\n",
    "])\n",
    "\n",
    "input_query = inputs[1]"
   ]
  },
  {
   "cell_type": "markdown",
   "id": "cd09ffc7",
   "metadata": {},
   "source": [
    "We need to then compute the dot product of the input query with each word in the input tensor to get the attention scores."
   ]
  },
  {
   "cell_type": "code",
   "execution_count": 148,
   "id": "28315116",
   "metadata": {},
   "outputs": [
    {
     "name": "stdout",
     "output_type": "stream",
     "text": [
      "Input one: tensor([0.4300, 0.1500, 0.8900])\n",
      "Input query: tensor([0.5500, 0.8700, 0.6600])\n",
      "Dot product: 0.9544000625610352\n"
     ]
    }
   ],
   "source": [
    "input_1 = inputs[0]\n",
    "print(f\"Input one: {input_1}\\nInput query: {input_query}\")\n",
    "\n",
    "print(f\"Dot product: {torch.dot(input_query, input_1)}\")"
   ]
  },
  {
   "cell_type": "code",
   "execution_count": 149,
   "id": "df58c296",
   "metadata": {},
   "outputs": [
    {
     "name": "stdout",
     "output_type": "stream",
     "text": [
      "Attention scores: tensor([0.9544, 1.4950, 1.4754, 0.8434, 0.7070, 1.0865])\n"
     ]
    }
   ],
   "source": [
    "query = inputs[1]\n",
    "attn_scores_2 = torch.empty(inputs.shape[0])\n",
    "for idx, input_i in enumerate(inputs):\n",
    "    attn_scores_2[idx] = torch.dot(query, input_i)\n",
    "\n",
    "print(f\"Attention scores: {attn_scores_2}\")"
   ]
  },
  {
   "cell_type": "markdown",
   "id": "c6b5eb8a",
   "metadata": {},
   "source": [
    "To compute the attention weights, we just need to normalize the attention scores. We can do this simply, or by using a `softmax` function."
   ]
  },
  {
   "cell_type": "code",
   "execution_count": 150,
   "id": "131cffb6",
   "metadata": {},
   "outputs": [
    {
     "name": "stdout",
     "output_type": "stream",
     "text": [
      "Attention weights: tensor([0.1385, 0.2379, 0.2333, 0.1240, 0.1082, 0.1581])\n"
     ]
    }
   ],
   "source": [
    "def manual_softmax(n):\n",
    "    # could be unstable for some n\n",
    "    return torch.exp(n) / torch.exp(n).sum(dim=0)\n",
    "\n",
    "attn_weights_2 = torch.softmax(attn_scores_2, dim=0)\n",
    "print(f\"Attention weights: {attn_weights_2}\")"
   ]
  },
  {
   "cell_type": "markdown",
   "id": "700af846",
   "metadata": {},
   "source": [
    "Now to compute the context vector, we multiply the attention weights with the input words and sum them up."
   ]
  },
  {
   "cell_type": "code",
   "execution_count": 151,
   "id": "534c3e0f",
   "metadata": {},
   "outputs": [
    {
     "name": "stdout",
     "output_type": "stream",
     "text": [
      "Context vector: tensor([0.4419, 0.6515, 0.5683])\n"
     ]
    }
   ],
   "source": [
    "query = inputs[1]\n",
    "context_vec_2 = torch.zeros(query.shape)\n",
    "\n",
    "for idx, input_i in enumerate(inputs):\n",
    "    context_vec_2 += attn_weights_2[idx] * input_i\n",
    "\n",
    "print(f\"Context vector: {context_vec_2}\")"
   ]
  },
  {
   "cell_type": "markdown",
   "id": "77c68b6b",
   "metadata": {},
   "source": [
    "## Simplified Self-Attention Generalized"
   ]
  },
  {
   "cell_type": "markdown",
   "id": "4d96e852",
   "metadata": {},
   "source": [
    "This time, we'll use the same idea, but we will compute the attention scores in a more generalized way rather than just focusing on one input query."
   ]
  },
  {
   "cell_type": "code",
   "execution_count": 152,
   "id": "2cefe982",
   "metadata": {},
   "outputs": [
    {
     "name": "stdout",
     "output_type": "stream",
     "text": [
      "Attention scores shape: torch.Size([6, 6])\n"
     ]
    }
   ],
   "source": [
    "inputs = torch.tensor([\n",
    "    [0.43, 0.15, 0.89], # word 1\n",
    "    [0.55, 0.87, 0.66], # word 2\n",
    "    [0.57, 0.85, 0.64], # word 3\n",
    "    [0.22, 0.58, 0.33], # word 4\n",
    "    [0.77, 0.25, 0.10], # word 5\n",
    "    [0.05, 0.80, 0.55]  # word 6\n",
    "])\n",
    "\n",
    "attn_scores = torch.empty(inputs.shape[0], inputs.shape[0])\n",
    "print(f\"Attention scores shape: {attn_scores.shape}\")"
   ]
  },
  {
   "cell_type": "markdown",
   "id": "a7b70c73",
   "metadata": {},
   "source": [
    "By the same logic of dot product we compute the attention score, but this also be done more efficiently by matrix multiplication."
   ]
  },
  {
   "cell_type": "code",
   "execution_count": 153,
   "id": "74ed12bf",
   "metadata": {},
   "outputs": [
    {
     "name": "stdout",
     "output_type": "stream",
     "text": [
      "Attention scores: \n",
      "tensor([[0.9995, 0.9544, 0.9422, 0.4753, 0.4576, 0.6310],\n",
      "        [0.9544, 1.4950, 1.4754, 0.8434, 0.7070, 1.0865],\n",
      "        [0.9422, 1.4754, 1.4570, 0.8296, 0.7154, 1.0605],\n",
      "        [0.4753, 0.8434, 0.8296, 0.4937, 0.3474, 0.6565],\n",
      "        [0.4576, 0.7070, 0.7154, 0.3474, 0.6654, 0.2935],\n",
      "        [0.6310, 1.0865, 1.0605, 0.6565, 0.2935, 0.9450]])\n",
      "\n",
      "Matrix multiplication result: \n",
      "tensor([[0.9995, 0.9544, 0.9422, 0.4753, 0.4576, 0.6310],\n",
      "        [0.9544, 1.4950, 1.4754, 0.8434, 0.7070, 1.0865],\n",
      "        [0.9422, 1.4754, 1.4570, 0.8296, 0.7154, 1.0605],\n",
      "        [0.4753, 0.8434, 0.8296, 0.4937, 0.3474, 0.6565],\n",
      "        [0.4576, 0.7070, 0.7154, 0.3474, 0.6654, 0.2935],\n",
      "        [0.6310, 1.0865, 1.0605, 0.6565, 0.2935, 0.9450]])\n"
     ]
    }
   ],
   "source": [
    "for i, x_i in enumerate(inputs):\n",
    "    for j, x_j in enumerate(inputs):\n",
    "        attn_scores[i, j] = torch.dot(x_i, x_j)\n",
    "\n",
    "print(f\"Attention scores: \\n{attn_scores}\\n\")\n",
    "print(f\"Matrix multiplication result: \\n{inputs @ inputs.T}\")"
   ]
  },
  {
   "cell_type": "markdown",
   "id": "cbb530d0",
   "metadata": {},
   "source": [
    "With the same `softmax` function, we normalize the attention scores to get the attention weights."
   ]
  },
  {
   "cell_type": "code",
   "execution_count": 154,
   "id": "6214cd26",
   "metadata": {},
   "outputs": [
    {
     "name": "stdout",
     "output_type": "stream",
     "text": [
      "Attention weights: \n",
      "tensor([[0.2098, 0.2006, 0.1981, 0.1242, 0.1220, 0.1452],\n",
      "        [0.1385, 0.2379, 0.2333, 0.1240, 0.1082, 0.1581],\n",
      "        [0.1390, 0.2369, 0.2326, 0.1242, 0.1108, 0.1565],\n",
      "        [0.1435, 0.2074, 0.2046, 0.1462, 0.1263, 0.1720],\n",
      "        [0.1526, 0.1958, 0.1975, 0.1367, 0.1879, 0.1295],\n",
      "        [0.1385, 0.2184, 0.2128, 0.1420, 0.0988, 0.1896]])\n"
     ]
    }
   ],
   "source": [
    "attn_weights = torch.softmax(attn_scores, dim=1)\n",
    "print(f\"Attention weights: \\n{attn_weights}\")"
   ]
  },
  {
   "cell_type": "markdown",
   "id": "db232719",
   "metadata": {},
   "source": [
    "Using matrix multiplication for effieciency, we compute the context vector using the attention weights of the input words."
   ]
  },
  {
   "cell_type": "code",
   "execution_count": 155,
   "id": "94eb2b54",
   "metadata": {},
   "outputs": [
    {
     "name": "stdout",
     "output_type": "stream",
     "text": [
      "Context vector: \n",
      "tensor([[0.4421, 0.5931, 0.5790],\n",
      "        [0.4419, 0.6515, 0.5683],\n",
      "        [0.4431, 0.6496, 0.5671],\n",
      "        [0.4304, 0.6298, 0.5510],\n",
      "        [0.4671, 0.5910, 0.5266],\n",
      "        [0.4177, 0.6503, 0.5645]])\n"
     ]
    }
   ],
   "source": [
    "context_vec = attn_weights @ inputs\n",
    "print(f\"Context vector: \\n{context_vec}\")"
   ]
  },
  {
   "cell_type": "markdown",
   "id": "ae2cd919",
   "metadata": {},
   "source": [
    "## Trainable Self-Attention Example"
   ]
  },
  {
   "cell_type": "code",
   "execution_count": 156,
   "id": "561d5b9e",
   "metadata": {},
   "outputs": [
    {
     "name": "stdout",
     "output_type": "stream",
     "text": [
      "W_query: Parameter containing:\n",
      "tensor([[0.2961, 0.5166],\n",
      "        [0.2517, 0.6886],\n",
      "        [0.0740, 0.8665]], requires_grad=True)\n",
      "W_key: Parameter containing:\n",
      "tensor([[0.1366, 0.1025],\n",
      "        [0.1841, 0.7264],\n",
      "        [0.3153, 0.6871]], requires_grad=True)\n",
      "W_value: Parameter containing:\n",
      "tensor([[0.0756, 0.1966],\n",
      "        [0.3164, 0.4017],\n",
      "        [0.1186, 0.8274]], requires_grad=True)\n"
     ]
    }
   ],
   "source": [
    "x_2 = inputs[1]          # word 2\n",
    "d_in = inputs.shape[1]   # input tensor dimensionality\n",
    "d_out = 2                # output tensor dimensionality\n",
    "\n",
    "W_query = torch.nn.Parameter(torch.rand(d_in, d_out))\n",
    "W_key = torch.nn.Parameter(torch.rand(d_in, d_out))\n",
    "W_value = torch.nn.Parameter(torch.rand(d_in, d_out))\n",
    "\n",
    "print(f\"W_query: {W_query}\\nW_key: {W_key}\\nW_value: {W_value}\")"
   ]
  },
  {
   "cell_type": "code",
   "execution_count": 157,
   "id": "1b25054c",
   "metadata": {},
   "outputs": [
    {
     "name": "stdout",
     "output_type": "stream",
     "text": [
      "Keys: \n",
      "tensor([[0.3669, 0.7646],\n",
      "        [0.4433, 1.1419],\n",
      "        [0.4361, 1.1156],\n",
      "        [0.2408, 0.6706],\n",
      "        [0.1827, 0.3292],\n",
      "        [0.3275, 0.9642]], grad_fn=<MmBackward0>)\n",
      "\n",
      "Values: \n",
      "tensor([[0.1855, 0.8812],\n",
      "        [0.3951, 1.0037],\n",
      "        [0.3879, 0.9831],\n",
      "        [0.2393, 0.5493],\n",
      "        [0.1492, 0.3346],\n",
      "        [0.3221, 0.7863]], grad_fn=<MmBackward0>)\n",
      "\n",
      "Query vector: tensor([0.4306, 1.4551], grad_fn=<SqueezeBackward4>)\n"
     ]
    }
   ],
   "source": [
    "query_2 = x_2 @ W_query\n",
    "keys = inputs @ W_key\n",
    "value = inputs @ W_value\n",
    "print(f\"Keys: \\n{keys}\\n\\nValues: \\n{value}\\n\\nQuery vector: {query_2}\")"
   ]
  },
  {
   "cell_type": "code",
   "execution_count": 158,
   "id": "71ee4e8d",
   "metadata": {},
   "outputs": [
    {
     "name": "stdout",
     "output_type": "stream",
     "text": [
      "Attention scores: \n",
      "tensor([1.2705, 1.8524, 1.8111, 1.0795, 0.5577, 1.5440],\n",
      "       grad_fn=<SqueezeBackward4>)\n"
     ]
    }
   ],
   "source": [
    "attn_scores_2 = query_2 @ keys.T\n",
    "print(f\"Attention scores: \\n{attn_scores_2}\")"
   ]
  },
  {
   "cell_type": "code",
   "execution_count": 159,
   "id": "18c83b15",
   "metadata": {},
   "outputs": [
    {
     "name": "stdout",
     "output_type": "stream",
     "text": [
      "Attention weights: \n",
      "tensor([0.1500, 0.2264, 0.2199, 0.1311, 0.0906, 0.1820],\n",
      "       grad_fn=<SoftmaxBackward0>)\n"
     ]
    }
   ],
   "source": [
    "d_k = keys.shape[1]  # dimensionality of keys\n",
    "\n",
    "attn_weights_2 = torch.softmax(attn_scores_2 / d_k ** 0.5, dim=-1)\n",
    "print(f\"Attention weights: \\n{attn_weights_2}\")"
   ]
  },
  {
   "cell_type": "code",
   "execution_count": 160,
   "id": "6c85b86f",
   "metadata": {},
   "outputs": [
    {
     "name": "stdout",
     "output_type": "stream",
     "text": [
      "Context vector: \n",
      "tensor([0.3061, 0.8210], grad_fn=<SqueezeBackward4>)\n"
     ]
    }
   ],
   "source": [
    "context_vec_2 = attn_weights_2 @ value\n",
    "print(f\"Context vector: \\n{context_vec_2}\")"
   ]
  },
  {
   "cell_type": "markdown",
   "id": "d945235c",
   "metadata": {},
   "source": [
    "## Trainable Self-Attention Generalized"
   ]
  },
  {
   "cell_type": "code",
   "execution_count": 161,
   "id": "0471f52b",
   "metadata": {},
   "outputs": [
    {
     "name": "stdout",
     "output_type": "stream",
     "text": [
      "Context vector from self-attention v1: \n",
      "tensor([[0.2996, 0.8053],\n",
      "        [0.3061, 0.8210],\n",
      "        [0.3058, 0.8203],\n",
      "        [0.2948, 0.7939],\n",
      "        [0.2927, 0.7891],\n",
      "        [0.2990, 0.8040]], grad_fn=<MmBackward0>)\n"
     ]
    }
   ],
   "source": [
    "class SelfAttention_v1(nn.Module):\n",
    "    def __init__(self, d_in, d_out):\n",
    "        super().__init__()\n",
    "        self.W_query = nn.Parameter(torch.rand(d_in, d_out))\n",
    "        self.W_key = nn.Parameter(torch.rand(d_in, d_out))\n",
    "        self.W_value = nn.Parameter(torch.rand(d_in, d_out))\n",
    "\n",
    "    def forward(self, x):\n",
    "        queries = inputs @ W_query\n",
    "        keys = inputs @ W_key\n",
    "        values = inputs @ W_value\n",
    "\n",
    "        attn_scores = queries @ keys.T\n",
    "        attn_weights = torch.softmax(attn_scores / d_k ** 0.5, dim=-1)\n",
    "        context_vec = attn_weights @ values\n",
    "\n",
    "        return context_vec\n",
    "    \n",
    "sa_v1 = SelfAttention_v1(d_in, d_out)\n",
    "print(f\"Context vector from self-attention v1: \\n{sa_v1(inputs)}\")"
   ]
  },
  {
   "cell_type": "code",
   "execution_count": 162,
   "id": "42c38b22",
   "metadata": {},
   "outputs": [
    {
     "name": "stdout",
     "output_type": "stream",
     "text": [
      "Example weights: Parameter containing:\n",
      "tensor([[-0.5980, -0.2029],\n",
      "        [-0.4980,  0.0467],\n",
      "        [-0.1320, -0.3793]], requires_grad=True)\n",
      "\n",
      "Example bias: Parameter containing:\n",
      "tensor([-0.0643,  0.6699, -0.0558], requires_grad=True)\n"
     ]
    }
   ],
   "source": [
    "example_tensor = torch.nn.Linear(2, 3)\n",
    "print(f\"Example weights: {example_tensor.weight}\\n\\nExample bias: {example_tensor.bias}\")"
   ]
  },
  {
   "cell_type": "code",
   "execution_count": 163,
   "id": "00d2125d",
   "metadata": {},
   "outputs": [
    {
     "name": "stdout",
     "output_type": "stream",
     "text": [
      "Context vector from final self-attention: \n",
      "tensor([[-0.0089,  0.0272],\n",
      "        [-0.0049,  0.0264],\n",
      "        [-0.0049,  0.0264],\n",
      "        [-0.0094,  0.0277],\n",
      "        [-0.0079,  0.0272],\n",
      "        [-0.0089,  0.0276]], grad_fn=<MmBackward0>)\n"
     ]
    }
   ],
   "source": [
    "class SelfAttention_v2(nn.Module):\n",
    "    def __init__(self, d_in, d_out, qkv_bias=False):\n",
    "        super().__init__()\n",
    "        self.W_query = nn.Linear(d_in, d_out, bias=qkv_bias)\n",
    "        self.W_key = nn.Linear(d_in, d_out, bias=qkv_bias)\n",
    "        self.W_value = nn.Linear(d_in, d_out, bias=qkv_bias)\n",
    "\n",
    "    def forward(self, x):\n",
    "        queries = self.W_query(x)\n",
    "        keys = self.W_key(x)\n",
    "        values = self.W_value(x)\n",
    "\n",
    "        attn_scores = queries @ keys.T\n",
    "        attn_weights = torch.softmax(attn_scores / d_k ** 0.5, dim=-1)\n",
    "        context_vec = attn_weights @ values\n",
    "\n",
    "        return context_vec\n",
    "\n",
    "sa = SelfAttention_v2(d_in, d_out)\n",
    "print(f\"Context vector from final self-attention: \\n{sa(inputs)}\")"
   ]
  },
  {
   "cell_type": "markdown",
   "id": "3226c93f",
   "metadata": {},
   "source": [
    "## Causal Attention"
   ]
  },
  {
   "cell_type": "code",
   "execution_count": 164,
   "id": "60e7dda0",
   "metadata": {},
   "outputs": [
    {
     "name": "stdout",
     "output_type": "stream",
     "text": [
      "Attention weights: \n",
      "tensor([[0.1723, 0.1562, 0.1570, 0.1706, 0.1828, 0.1612],\n",
      "        [0.1749, 0.1489, 0.1502, 0.1737, 0.1943, 0.1580],\n",
      "        [0.1749, 0.1489, 0.1502, 0.1737, 0.1942, 0.1580],\n",
      "        [0.1712, 0.1570, 0.1577, 0.1707, 0.1812, 0.1622],\n",
      "        [0.1726, 0.1543, 0.1552, 0.1716, 0.1855, 0.1607],\n",
      "        [0.1716, 0.1561, 0.1569, 0.1710, 0.1826, 0.1618]],\n",
      "       grad_fn=<SoftmaxBackward0>)\n"
     ]
    }
   ],
   "source": [
    "queries = sa.W_query(inputs)\n",
    "keys = sa.W_key(inputs)\n",
    "values = sa.W_value(inputs)\n",
    "\n",
    "attn_scores = queries @ keys.T\n",
    "attn_weights = torch.softmax(attn_scores / d_k ** 0.5, dim=-1)\n",
    "\n",
    "print(f\"Attention weights: \\n{attn_weights}\")"
   ]
  },
  {
   "cell_type": "code",
   "execution_count": 165,
   "id": "c5bed5fe",
   "metadata": {},
   "outputs": [
    {
     "name": "stdout",
     "output_type": "stream",
     "text": [
      "Simple mask: \n",
      "tensor([[1., 0., 0., 0., 0., 0.],\n",
      "        [1., 1., 0., 0., 0., 0.],\n",
      "        [1., 1., 1., 0., 0., 0.],\n",
      "        [1., 1., 1., 1., 0., 0.],\n",
      "        [1., 1., 1., 1., 1., 0.],\n",
      "        [1., 1., 1., 1., 1., 1.]])\n"
     ]
    }
   ],
   "source": [
    "context_length = attn_scores.shape[0]\n",
    "mask_simple = torch.tril(torch.ones(context_length, context_length))\n",
    "print(f\"Simple mask: \\n{mask_simple}\")"
   ]
  },
  {
   "cell_type": "code",
   "execution_count": 166,
   "id": "506eb993",
   "metadata": {},
   "outputs": [
    {
     "name": "stdout",
     "output_type": "stream",
     "text": [
      "Masked attention weights (simple): \n",
      "tensor([[0.1723, 0.0000, 0.0000, 0.0000, 0.0000, 0.0000],\n",
      "        [0.1749, 0.1489, 0.0000, 0.0000, 0.0000, 0.0000],\n",
      "        [0.1749, 0.1489, 0.1502, 0.0000, 0.0000, 0.0000],\n",
      "        [0.1712, 0.1570, 0.1577, 0.1707, 0.0000, 0.0000],\n",
      "        [0.1726, 0.1543, 0.1552, 0.1716, 0.1855, 0.0000],\n",
      "        [0.1716, 0.1561, 0.1569, 0.1710, 0.1826, 0.1618]],\n",
      "       grad_fn=<MulBackward0>)\n"
     ]
    }
   ],
   "source": [
    "masked_simple = attn_weights * mask_simple\n",
    "print(f\"Masked attention weights (simple): \\n{masked_simple}\")"
   ]
  },
  {
   "cell_type": "code",
   "execution_count": 167,
   "id": "ef1c519e",
   "metadata": {},
   "outputs": [
    {
     "name": "stdout",
     "output_type": "stream",
     "text": [
      "Masked attention weights (simple): \n",
      "tensor([[1.0000, 0.0000, 0.0000, 0.0000, 0.0000, 0.0000],\n",
      "        [0.5402, 0.4598, 0.0000, 0.0000, 0.0000, 0.0000],\n",
      "        [0.3690, 0.3142, 0.3168, 0.0000, 0.0000, 0.0000],\n",
      "        [0.2607, 0.2392, 0.2402, 0.2599, 0.0000, 0.0000],\n",
      "        [0.2056, 0.1839, 0.1849, 0.2045, 0.2211, 0.0000],\n",
      "        [0.1716, 0.1561, 0.1569, 0.1710, 0.1826, 0.1618]],\n",
      "       grad_fn=<DivBackward0>)\n"
     ]
    }
   ],
   "source": [
    "row_sums = masked_simple.sum(dim=-1, keepdim=True)\n",
    "masked_simple_normalized = masked_simple / row_sums\n",
    "print(f\"Masked attention weights (simple): \\n{masked_simple_normalized}\")"
   ]
  },
  {
   "cell_type": "code",
   "execution_count": 168,
   "id": "7d39c54a",
   "metadata": {},
   "outputs": [
    {
     "name": "stdout",
     "output_type": "stream",
     "text": [
      "Masked attention scores: \n",
      "tensor([[-0.1760,    -inf,    -inf,    -inf,    -inf,    -inf],\n",
      "        [-0.3144, -0.5421,    -inf,    -inf,    -inf,    -inf],\n",
      "        [-0.3139, -0.5413, -0.5294,    -inf,    -inf,    -inf],\n",
      "        [-0.1709, -0.2928, -0.2864, -0.1750,    -inf,    -inf],\n",
      "        [-0.2171, -0.3751, -0.3669, -0.2248, -0.1147,    -inf],\n",
      "        [-0.1869, -0.3200, -0.3130, -0.1913, -0.0989, -0.2699]],\n",
      "       grad_fn=<MaskedFillBackward0>)\n"
     ]
    }
   ],
   "source": [
    "mask = torch.triu(torch.ones(context_length, context_length), diagonal=1)\n",
    "masked = attn_scores.masked_fill(mask.bool(), -torch.inf)\n",
    "print(f\"Masked attention scores: \\n{masked}\")"
   ]
  },
  {
   "cell_type": "code",
   "execution_count": 169,
   "id": "5369ae02",
   "metadata": {},
   "outputs": [
    {
     "name": "stdout",
     "output_type": "stream",
     "text": [
      "Example negative infinity tensor: tensor([-inf]) \n",
      "e ** -inf or exp(-inf): tensor([0.])\n"
     ]
    }
   ],
   "source": [
    "example_neg_inf_tensor = torch.tensor([float('-inf')])\n",
    "print(f\"Example negative infinity tensor: {example_neg_inf_tensor} \\ne ** -inf or exp(-inf): {torch.exp(example_neg_inf_tensor)}\")\n"
   ]
  },
  {
   "cell_type": "code",
   "execution_count": 170,
   "id": "98e21660",
   "metadata": {},
   "outputs": [
    {
     "name": "stdout",
     "output_type": "stream",
     "text": [
      "Masked attention weights: \n",
      "tensor([[1.0000, 0.0000, 0.0000, 0.0000, 0.0000, 0.0000],\n",
      "        [0.5567, 0.4433, 0.0000, 0.0000, 0.0000, 0.0000],\n",
      "        [0.3842, 0.3061, 0.3097, 0.0000, 0.0000, 0.0000],\n",
      "        [0.2651, 0.2347, 0.2362, 0.2640, 0.0000, 0.0000],\n",
      "        [0.2077, 0.1773, 0.1788, 0.2061, 0.2301, 0.0000],\n",
      "        [0.1735, 0.1518, 0.1529, 0.1727, 0.1894, 0.1596]],\n",
      "       grad_fn=<SoftmaxBackward0>)\n"
     ]
    }
   ],
   "source": [
    "attn_weights = torch.softmax(masked, dim=-1)\n",
    "print(f\"Masked attention weights: \\n{attn_weights}\")"
   ]
  },
  {
   "cell_type": "markdown",
   "id": "2d20e4ed",
   "metadata": {},
   "source": [
    "## Dropout Masking"
   ]
  },
  {
   "cell_type": "code",
   "execution_count": 171,
   "id": "bc4fee95",
   "metadata": {},
   "outputs": [],
   "source": [
    "dropout_rate = 0.5\n",
    "dropout_layer = torch.nn.Dropout(dropout_rate)"
   ]
  },
  {
   "cell_type": "code",
   "execution_count": 172,
   "id": "f1d24066",
   "metadata": {},
   "outputs": [
    {
     "name": "stdout",
     "output_type": "stream",
     "text": [
      "Example tensor before dropout: \n",
      "tensor([[1., 1., 1., 1., 1., 1.],\n",
      "        [1., 1., 1., 1., 1., 1.],\n",
      "        [1., 1., 1., 1., 1., 1.],\n",
      "        [1., 1., 1., 1., 1., 1.],\n",
      "        [1., 1., 1., 1., 1., 1.],\n",
      "        [1., 1., 1., 1., 1., 1.]])\n",
      "\n",
      "Example tensor after dropout: \n",
      "tensor([[2., 2., 0., 0., 2., 0.],\n",
      "        [2., 2., 0., 2., 0., 2.],\n",
      "        [2., 2., 2., 0., 0., 0.],\n",
      "        [2., 0., 0., 0., 0., 0.],\n",
      "        [0., 0., 2., 2., 2., 2.],\n",
      "        [2., 2., 0., 2., 2., 0.]])\n",
      "\n",
      "Dropout scale factor: 2.0\n"
     ]
    }
   ],
   "source": [
    "example_tensor = torch.ones(6,6)\n",
    "\n",
    "print(f\"Example tensor before dropout: \\n{example_tensor}\\n\\nExample tensor after dropout: \\n{dropout_layer(example_tensor)}\\n\")\n",
    "\n",
    "print(f\"Dropout scale factor: {1 / (1 - dropout_rate)}\")"
   ]
  },
  {
   "cell_type": "code",
   "execution_count": 173,
   "id": "90277072",
   "metadata": {},
   "outputs": [
    {
     "name": "stdout",
     "output_type": "stream",
     "text": [
      "Attention weights after dropout: \n",
      "tensor([[2.0000, 0.0000, 0.0000, 0.0000, 0.0000, 0.0000],\n",
      "        [1.1134, 0.0000, 0.0000, 0.0000, 0.0000, 0.0000],\n",
      "        [0.7684, 0.0000, 0.6195, 0.0000, 0.0000, 0.0000],\n",
      "        [0.0000, 0.0000, 0.0000, 0.0000, 0.0000, 0.0000],\n",
      "        [0.4154, 0.0000, 0.3576, 0.4122, 0.4602, 0.0000],\n",
      "        [0.3469, 0.3037, 0.0000, 0.3454, 0.0000, 0.3193]],\n",
      "       grad_fn=<MulBackward0>)\n"
     ]
    }
   ],
   "source": [
    "attn_weights = dropout_layer(attn_weights)\n",
    "print(f\"Attention weights after dropout: \\n{attn_weights}\")"
   ]
  },
  {
   "cell_type": "markdown",
   "id": "b60aa5b7",
   "metadata": {},
   "source": [
    "## Causal Self-Attention Generalized"
   ]
  },
  {
   "cell_type": "code",
   "execution_count": 174,
   "id": "4191d971",
   "metadata": {},
   "outputs": [
    {
     "name": "stdout",
     "output_type": "stream",
     "text": [
      "Inputs: \n",
      "tensor([[0.4300, 0.1500, 0.8900],\n",
      "        [0.5500, 0.8700, 0.6600],\n",
      "        [0.5700, 0.8500, 0.6400],\n",
      "        [0.2200, 0.5800, 0.3300],\n",
      "        [0.7700, 0.2500, 0.1000],\n",
      "        [0.0500, 0.8000, 0.5500]])\n"
     ]
    }
   ],
   "source": [
    "print(f\"Inputs: \\n{inputs}\")"
   ]
  },
  {
   "cell_type": "code",
   "execution_count": 175,
   "id": "636ad6bc",
   "metadata": {},
   "outputs": [
    {
     "name": "stdout",
     "output_type": "stream",
     "text": [
      "Batch shape: torch.Size([2, 6, 3])\n",
      "Batch: \n",
      "tensor([[[0.4300, 0.1500, 0.8900],\n",
      "         [0.5500, 0.8700, 0.6600],\n",
      "         [0.5700, 0.8500, 0.6400],\n",
      "         [0.2200, 0.5800, 0.3300],\n",
      "         [0.7700, 0.2500, 0.1000],\n",
      "         [0.0500, 0.8000, 0.5500]],\n",
      "\n",
      "        [[0.4300, 0.1500, 0.8900],\n",
      "         [0.5500, 0.8700, 0.6600],\n",
      "         [0.5700, 0.8500, 0.6400],\n",
      "         [0.2200, 0.5800, 0.3300],\n",
      "         [0.7700, 0.2500, 0.1000],\n",
      "         [0.0500, 0.8000, 0.5500]]])\n"
     ]
    }
   ],
   "source": [
    "batch = torch.stack((inputs, inputs), dim=0)\n",
    "print(f\"Batch shape: {batch.shape}\\nBatch: \\n{batch}\")"
   ]
  },
  {
   "cell_type": "code",
   "execution_count": 176,
   "id": "06f330e1",
   "metadata": {},
   "outputs": [
    {
     "name": "stdout",
     "output_type": "stream",
     "text": [
      "Context vector from casual attention: \n",
      "tensor([[[-0.0872,  0.0286],\n",
      "         [-0.0993,  0.0505],\n",
      "         [-0.1001,  0.0638],\n",
      "         [-0.0983,  0.0489],\n",
      "         [-0.0513,  0.1100],\n",
      "         [-0.0757,  0.0688]],\n",
      "\n",
      "        [[-0.0872,  0.0286],\n",
      "         [-0.0993,  0.0505],\n",
      "         [-0.1001,  0.0638],\n",
      "         [-0.0983,  0.0489],\n",
      "         [-0.0513,  0.1100],\n",
      "         [-0.0757,  0.0688]]], grad_fn=<UnsafeViewBackward0>)\n"
     ]
    }
   ],
   "source": [
    "class CasualAttention(nn.Module):\n",
    "    def __init__(self, d_in, d_out, \n",
    "                 context_length, dropout, qkv_bias=False):\n",
    "        super().__init__()\n",
    "        self.W_query = nn.Linear(d_in, d_out, bias=qkv_bias)\n",
    "        self.W_key = nn.Linear(d_in, d_out, bias=qkv_bias)\n",
    "        self.W_value = nn.Linear(d_in, d_out, bias=qkv_bias)\n",
    "\n",
    "        self.dropout = torch.nn.Dropout(dropout)\n",
    "        self.register_buffer(\"mask\", torch.triu(torch.ones(context_length, context_length), diagonal=1))\n",
    "\n",
    "    def forward(self, x):\n",
    "        b, num_tokens, d_k = x.shape\n",
    "\n",
    "        queries = self.W_query(x)\n",
    "        keys = self.W_key(x)\n",
    "        values = self.W_value(x)\n",
    "\n",
    "        attn_scores = queries @ keys.transpose(1, 2)\n",
    "        attn_scores.masked_fill_(\n",
    "            self.mask.bool()[:num_tokens, :num_tokens], -torch.inf\n",
    "        )\n",
    "\n",
    "        attn_weights = torch.softmax(\n",
    "            attn_scores / d_k ** 0.5, dim=-1\n",
    "        )\n",
    "\n",
    "        attn_weights = self.dropout(attn_weights)\n",
    "\n",
    "        context_vec = attn_weights @ values\n",
    "\n",
    "        return context_vec\n",
    "\n",
    "torch.manual_seed(789)\n",
    "context_length = batch.shape[1]\n",
    "dropout = 0.0\n",
    "ca = CasualAttention(d_in, \n",
    "                     d_out, \n",
    "                     context_length, \n",
    "                     dropout)\n",
    "print(f\"Context vector from casual attention: \\n{ca(batch)}\")"
   ]
  },
  {
   "cell_type": "markdown",
   "id": "494af86a",
   "metadata": {},
   "source": [
    "## Multi-Head Attention"
   ]
  },
  {
   "cell_type": "code",
   "execution_count": 177,
   "id": "4ee6d7a4",
   "metadata": {},
   "outputs": [
    {
     "name": "stdout",
     "output_type": "stream",
     "text": [
      "Context vector from multi-head attention: \n",
      "tensor([[[ 0.2482, -0.4838,  0.1874,  0.2627],\n",
      "         [ 0.3719, -0.4306,  0.2216,  0.1136],\n",
      "         [ 0.4159, -0.4116,  0.2300,  0.0680],\n",
      "         [ 0.3774, -0.3525,  0.2117,  0.0237],\n",
      "         [ 0.3980, -0.3240,  0.1728,  0.0655],\n",
      "         [ 0.3670, -0.3078,  0.1810,  0.0206]],\n",
      "\n",
      "        [[ 0.2482, -0.4838,  0.1874,  0.2627],\n",
      "         [ 0.3719, -0.4306,  0.2216,  0.1136],\n",
      "         [ 0.4159, -0.4116,  0.2300,  0.0680],\n",
      "         [ 0.3774, -0.3525,  0.2117,  0.0237],\n",
      "         [ 0.3980, -0.3240,  0.1728,  0.0655],\n",
      "         [ 0.3670, -0.3078,  0.1810,  0.0206]]], grad_fn=<CatBackward0>)\n",
      "Shape: torch.Size([2, 6, 4])\n"
     ]
    }
   ],
   "source": [
    "class MultiHeadAttentionWrapper(nn.Module):\n",
    "    def __init__(self, d_in, d_out, context_length, dropout, num_heads=2, qkv_bias=False):\n",
    "        super().__init__()\n",
    "        self.heads = nn.ModuleList(\n",
    "            [CasualAttention(d_in,  d_out,  context_length,  dropout,  qkv_bias) for _ in range(num_heads)]\n",
    "        )\n",
    "\n",
    "    def forward(self, x):\n",
    "        return torch.cat([head(x) for head in self.heads], dim=-1)\n",
    "\n",
    "context_length = batch.shape[1]\n",
    "d_in, d_out = inputs.shape[-1], 2\n",
    "\n",
    "mha = MultiHeadAttentionWrapper(d_in, d_out, context_length, dropout=0, num_heads=2)\n",
    "print(f\"Context vector from multi-head attention: \\n{mha(batch)}\\nShape: {mha(batch).shape}\")"
   ]
  },
  {
   "cell_type": "markdown",
   "id": "c1500f98",
   "metadata": {},
   "source": [
    "## Efficient Multi-Head Attention"
   ]
  },
  {
   "cell_type": "code",
   "execution_count": 178,
   "id": "69bb0bbe",
   "metadata": {},
   "outputs": [
    {
     "name": "stdout",
     "output_type": "stream",
     "text": [
      "Context vectors from multi-head attention: \n",
      "tensor([[[0.2119, 0.2659, 0.5129, 0.6238],\n",
      "         [0.2040, 0.2688, 0.4774, 0.6668],\n",
      "         [0.2020, 0.2700, 0.4630, 0.6830],\n",
      "         [0.1947, 0.2909, 0.4538, 0.6645],\n",
      "         [0.1842, 0.3148, 0.4116, 0.6585],\n",
      "         [0.1855, 0.3131, 0.4304, 0.6513]],\n",
      "\n",
      "        [[0.2119, 0.2659, 0.5129, 0.6238],\n",
      "         [0.2040, 0.2688, 0.4774, 0.6668],\n",
      "         [0.2020, 0.2700, 0.4630, 0.6830],\n",
      "         [0.1947, 0.2909, 0.4538, 0.6645],\n",
      "         [0.1842, 0.3148, 0.4116, 0.6585],\n",
      "         [0.1855, 0.3131, 0.4304, 0.6513]]], grad_fn=<ViewBackward0>)\n",
      "Context vectors shape: torch.Size([2, 6, 4])\n"
     ]
    }
   ],
   "source": [
    "class MultiHeadAttention(nn.Module):\n",
    "    def __init__(self, d_in, d_out, context_length, dropout, num_heads, qkv_bias=False):\n",
    "        super().__init__()\n",
    "        assert (d_out % num_heads == 0), \\\n",
    "            f\"{d_out} must be divisible by {num_heads}.\"\n",
    "        \n",
    "        self.d_out = d_out\n",
    "        self.num_heads = num_heads\n",
    "        self.head_dim = d_out // num_heads\n",
    "\n",
    "        self.W_query = nn.Linear(d_in, d_out, bias=qkv_bias)\n",
    "        self.W_key = nn.Linear(d_in, d_out, bias=qkv_bias)\n",
    "        self.W_value = nn.Linear(d_in, d_out, bias=qkv_bias)\n",
    "        self.out_proj = nn.Linear(d_out, d_out)\n",
    "        self.dropout = nn.Dropout(dropout)\n",
    "        self.register_buffer(\n",
    "            \"mask\",\n",
    "            torch.triu(torch.ones(context_length, context_length), diagonal=1)\n",
    "        )\n",
    "\n",
    "    def forward(self, x):\n",
    "        b, num_tokens, d_in = x.shape\n",
    "\n",
    "        keys = self.W_key(x)\n",
    "        queries = self.W_query(x)\n",
    "        values = self.W_value(x)\n",
    "\n",
    "        keys = keys.view(b, num_tokens, self.num_heads, self.head_dim)\n",
    "        values = values.view(b, num_tokens, self.num_heads, self.head_dim)\n",
    "        queries = queries.view(b, num_tokens, self.num_heads, self.head_dim)\n",
    "\n",
    "        keys = keys.transpose(1, 2)\n",
    "        values = values.transpose(1, 2)\n",
    "        queries = queries.transpose(1, 2)\n",
    "\n",
    "        attn_scores = queries @ keys.transpose(2, 3)\n",
    "\n",
    "        mask_bool = self.mask.bool()[:num_tokens, :num_tokens]\n",
    "\n",
    "        attn_scores.masked_fill_(mask_bool, -torch.inf)\n",
    "\n",
    "        attn_weights = torch.softmax(attn_scores / keys.shape[-1] ** 0.5, dim=-1)\n",
    "        attn_weights = self.dropout(attn_weights)\n",
    "\n",
    "        context_vec = (attn_weights @ values).transpose(1, 2)\n",
    "\n",
    "        context_vec = context_vec.reshape(b, num_tokens, self.d_out)\n",
    "        context_vec = self.out_proj(context_vec)\n",
    "\n",
    "        return context_vec\n",
    "    \n",
    "batch_size, context_length, d_in = batch.shape\n",
    "d_out = 4\n",
    "mha = MultiHeadAttention(d_in, d_out, context_length, dropout=0.0, num_heads=2)\n",
    "\n",
    "context_vecs = mha(batch)\n",
    "print(f\"Context vectors from multi-head attention: \\n{context_vecs}\\nContext vectors shape: {context_vecs.shape}\")"
   ]
  }
 ],
 "metadata": {
  "kernelspec": {
   "display_name": "temp-llm",
   "language": "python",
   "name": "python3"
  },
  "language_info": {
   "codemirror_mode": {
    "name": "ipython",
    "version": 3
   },
   "file_extension": ".py",
   "mimetype": "text/x-python",
   "name": "python",
   "nbconvert_exporter": "python",
   "pygments_lexer": "ipython3",
   "version": "3.11.13"
  }
 },
 "nbformat": 4,
 "nbformat_minor": 5
}
